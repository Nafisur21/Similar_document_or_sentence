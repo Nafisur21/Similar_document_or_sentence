{
 "cells": [
  {
   "cell_type": "markdown",
   "metadata": {},
   "source": [
    "# Nafisur Rahman\n",
    "nafisur21@gmail.com<br>\n",
    "https://www.linkedin.com/in/nafisur-rahman"
   ]
  },
  {
   "cell_type": "markdown",
   "metadata": {},
   "source": [
    "## Document Similarity"
   ]
  },
  {
   "cell_type": "code",
   "execution_count": 1,
   "metadata": {
    "collapsed": true
   },
   "outputs": [],
   "source": [
    "import numpy as np\n",
    "import pandas as pd\n",
    "import sklearn\n",
    "import nltk\n",
    "import matplotlib.pyplot as plt\n",
    "from nltk import pos_tag\n",
    "from nltk.tokenize import word_tokenize"
   ]
  },
  {
   "cell_type": "code",
   "execution_count": 2,
   "metadata": {},
   "outputs": [
    {
     "data": {
      "text/plain": [
       "[('Fish', 'NN'),\n",
       " ('are', 'VBP'),\n",
       " ('nvqjp', 'JJ'),\n",
       " ('friends', 'NNS'),\n",
       " ('.', '.')]"
      ]
     },
     "execution_count": 2,
     "metadata": {},
     "output_type": "execute_result"
    }
   ],
   "source": [
    "tags=pos_tag(word_tokenize('Fish are nvqjp friends.'))\n",
    "tags"
   ]
  },
  {
   "cell_type": "code",
   "execution_count": 5,
   "metadata": {},
   "outputs": [
    {
     "name": "stdout",
     "output_type": "stream",
     "text": [
      "NN: noun, common, singular or mass\n",
      "    common-carrier cabbage knuckle-duster Casino afghan shed thermostat\n",
      "    investment slide humour falloff slick wind hyena override subhumanity\n",
      "    machinist ...\n",
      "NNP: noun, proper, singular\n",
      "    Motown Venneboerger Czestochwa Ranzer Conchita Trumplane Christos\n",
      "    Oceanside Escobar Kreisler Sawyer Cougar Yvette Ervin ODI Darryl CTCA\n",
      "    Shannon A.K.C. Meltex Liverpool ...\n",
      "NNPS: noun, proper, plural\n",
      "    Americans Americas Amharas Amityvilles Amusements Anarcho-Syndicalists\n",
      "    Andalusians Andes Andruses Angels Animals Anthony Antilles Antiques\n",
      "    Apache Apaches Apocrypha ...\n",
      "NNS: noun, common, plural\n",
      "    undergraduates scotches bric-a-brac products bodyguards facets coasts\n",
      "    divestitures storehouses designs clubs fragrances averages\n",
      "    subjectivists apprehensions muses factory-jobs ...\n"
     ]
    }
   ],
   "source": [
    "nltk.help.upenn_tagset('N')"
   ]
  },
  {
   "cell_type": "code",
   "execution_count": 3,
   "metadata": {},
   "outputs": [],
   "source": [
    "from nltk.corpus import wordnet as wn"
   ]
  },
  {
   "cell_type": "code",
   "execution_count": 4,
   "metadata": {},
   "outputs": [
    {
     "data": {
      "text/plain": [
       "[Synset('fish.n.01'),\n",
       " Synset('fish.n.02'),\n",
       " Synset('pisces.n.02'),\n",
       " Synset('pisces.n.01'),\n",
       " Synset('fish.v.01'),\n",
       " Synset('fish.v.02')]"
      ]
     },
     "execution_count": 4,
     "metadata": {},
     "output_type": "execute_result"
    }
   ],
   "source": [
    "wn.synsets('fish')"
   ]
  },
  {
   "cell_type": "code",
   "execution_count": 6,
   "metadata": {},
   "outputs": [
    {
     "name": "stdout",
     "output_type": "stream",
     "text": [
      "Synset('fish.n.01') any of various mostly cold-blooded aquatic vertebrates usually having scales and breathing through gills\n",
      "Synset('fish.n.02') the flesh of fish used as food\n",
      "Synset('pisces.n.02') (astrology) a person who is born while the sun is in Pisces\n",
      "Synset('pisces.n.01') the twelfth sign of the zodiac; the sun is in this sign from about February 19 to March 20\n",
      "Synset('fish.v.01') seek indirectly\n",
      "Synset('fish.v.02') catch or try to catch fish or shellfish\n"
     ]
    }
   ],
   "source": [
    "for s in wn.synsets('fish'):\n",
    "    print(s,s.definition())"
   ]
  },
  {
   "cell_type": "code",
   "execution_count": 7,
   "metadata": {},
   "outputs": [
    {
     "name": "stdout",
     "output_type": "stream",
     "text": [
      "Synset('fish.v.01') seek indirectly\n",
      "Synset('fish.v.02') catch or try to catch fish or shellfish\n"
     ]
    }
   ],
   "source": [
    "for s in wn.synsets('fish',pos='v'):\n",
    "    print(s,s.definition())"
   ]
  },
  {
   "cell_type": "code",
   "execution_count": 8,
   "metadata": {
    "collapsed": true
   },
   "outputs": [],
   "source": [
    "def convert_tag(tag):\n",
    "    \"\"\"Convert the tag given by nltk.pos_tag to the tag used by wordnet.synsets\"\"\"\n",
    "    \n",
    "    tag_dict = {'N': 'n', 'J': 'a', 'R': 'r', 'V': 'v'}\n",
    "    try:\n",
    "        return tag_dict[tag[0]]\n",
    "    except KeyError:\n",
    "        return None"
   ]
  },
  {
   "cell_type": "code",
   "execution_count": 9,
   "metadata": {},
   "outputs": [
    {
     "name": "stdout",
     "output_type": "stream",
     "text": [
      "Synset('fish.n.01')\n",
      "Synset('be.v.01')\n",
      "Synset('friend.n.01')\n"
     ]
    }
   ],
   "source": [
    "for tag in tags:\n",
    "    #print(tag)\n",
    "    #print(convert_tag(tag[1]))\n",
    "    #print(wn.synsets(tag[0],pos=convert_tag(tag[1])))\n",
    "    try:\n",
    "        print(wn.synsets(tag[0],pos=convert_tag(tag[1]))[0])\n",
    "    except:\n",
    "        None"
   ]
  },
  {
   "cell_type": "code",
   "execution_count": 10,
   "metadata": {},
   "outputs": [
    {
     "name": "stdout",
     "output_type": "stream",
     "text": [
      "[Synset('fish.n.01'), Synset('be.v.01'), Synset('friend.n.01')]\n"
     ]
    }
   ],
   "source": [
    "synset_list=[]\n",
    "for tag in tags:\n",
    "    try:\n",
    "        ss=wn.synsets(tag[0],pos=convert_tag(tag[1]))[0]\n",
    "        synset_list.append(ss)\n",
    "    except:\n",
    "        None\n",
    "    \n",
    "    \n",
    "print(synset_list)"
   ]
  },
  {
   "cell_type": "code",
   "execution_count": 11,
   "metadata": {
    "collapsed": true
   },
   "outputs": [],
   "source": [
    "from bs4 import BeautifulSoup\n",
    "import re\n",
    "from nltk.tokenize import word_tokenize\n",
    "from nltk.stem import SnowballStemmer\n",
    "stemmer=SnowballStemmer('english')\n",
    "from nltk.stem import WordNetLemmatizer\n",
    "lemma=WordNetLemmatizer()\n",
    "from nltk.corpus import stopwords\n",
    "from string import punctuation\n",
    "Cstopwords=set(stopwords.words('english')+list(punctuation))\n",
    "def doc_to_synsets(doc):\n",
    "    text=str(doc)\n",
    "    text=re.sub('[^a-zA-Z]',' ',text)\n",
    "    text=word_tokenize(text)\n",
    "    #text=[w for w in text if w not in Cstopwords]\n",
    "    #text=[stemmer.stem(w) for w in text if w not in Cstopwords]\n",
    "    #text=[lemma.lemmatize(w) for w in text if w not in Cstopwords]\n",
    "    tags=pos_tag(text)\n",
    "    synset_list=[]\n",
    "    for tag in tags:\n",
    "        try:\n",
    "            ss=wn.synsets(tag[0],pos=convert_tag(tag[1]))[0]\n",
    "            synset_list.append(ss)\n",
    "        except:\n",
    "            None\n",
    "    return synset_list"
   ]
  },
  {
   "cell_type": "code",
   "execution_count": 12,
   "metadata": {},
   "outputs": [
    {
     "data": {
      "text/plain": [
       "[Synset('fish.n.01'), Synset('be.v.01'), Synset('friend.n.01')]"
      ]
     },
     "execution_count": 12,
     "metadata": {},
     "output_type": "execute_result"
    }
   ],
   "source": [
    "doc_to_synsets('Fish are nvqjp friends.')"
   ]
  },
  {
   "cell_type": "code",
   "execution_count": 13,
   "metadata": {},
   "outputs": [
    {
     "name": "stdout",
     "output_type": "stream",
     "text": [
      "[Synset('iodine.n.01'), Synset('wish.v.02'), Synset('cat.n.01')]\n",
      "[Synset('iodine.n.01'), Synset('wish.v.02'), Synset('dog.n.01')]\n"
     ]
    }
   ],
   "source": [
    "synsets1 = doc_to_synsets('I like cats')\n",
    "synsets2 = doc_to_synsets('I like dogs')\n",
    "print(synsets1)\n",
    "print(synsets2)"
   ]
  },
  {
   "cell_type": "code",
   "execution_count": 14,
   "metadata": {
    "collapsed": true
   },
   "outputs": [],
   "source": [
    "def similarity_score(s1, s2):\n",
    "    \"\"\"\n",
    "    Calculate the normalized similarity score of s1 onto s2\n",
    "\n",
    "    For each synset in s1, finds the synset in s2 with the largest similarity value.\n",
    "    Sum of all of the largest similarity values and normalize this value by dividing it by the\n",
    "    number of largest similarity values found.\n",
    "\n",
    "    Args:\n",
    "        s1, s2: list of synsets from doc_to_synsets\n",
    "\n",
    "    Returns:\n",
    "        normalized similarity score of s1 onto s2\n",
    "\n",
    "    Example:\n",
    "        synsets1 = doc_to_synsets('I like cats')\n",
    "        synsets2 = doc_to_synsets('I like dogs')\n",
    "        similarity_score(synsets1, synsets2)\n",
    "        Out: 0.73333333333333339\n",
    "    \"\"\"\n",
    "    \n",
    "    list_of_largest_similarities = []\n",
    "    # Your Code Here\n",
    "    for syn1 in s1:\n",
    "        \n",
    "        largest_sim = 0\n",
    "        \n",
    "        for syn2 in s2:\n",
    "            \n",
    "            #print(syn1.path_similarity(syn2))\n",
    "            \n",
    "            if syn1.path_similarity(syn2):\n",
    "            \n",
    "                if syn1.path_similarity(syn2) > largest_sim:\n",
    "                \n",
    "                    largest_sim = syn1.path_similarity(syn2)\n",
    "                \n",
    "        list_of_largest_similarities.append(largest_sim)\n",
    "    \n",
    "    return sum(list_of_largest_similarities) / len(list_of_largest_similarities)\n"
   ]
  },
  {
   "cell_type": "code",
   "execution_count": 15,
   "metadata": {},
   "outputs": [
    {
     "name": "stdout",
     "output_type": "stream",
     "text": [
      "0.6969696969696969\n"
     ]
    }
   ],
   "source": [
    "print(similarity_score(doc_to_synsets('i like mangoes'), synsets2))"
   ]
  },
  {
   "cell_type": "code",
   "execution_count": 16,
   "metadata": {},
   "outputs": [
    {
     "name": "stdout",
     "output_type": "stream",
     "text": [
      "0.7333333333333334\n"
     ]
    }
   ],
   "source": [
    "print(similarity_score(synsets1, synsets2))"
   ]
  },
  {
   "cell_type": "code",
   "execution_count": 17,
   "metadata": {
    "collapsed": true
   },
   "outputs": [],
   "source": [
    "def document_path_similarity(doc1, doc2):\n",
    "    \"\"\"Finds the symmetrical similarity between doc1 and doc2\"\"\"\n",
    "\n",
    "    synsets1 = doc_to_synsets(doc1)\n",
    "    synsets2 = doc_to_synsets(doc2)\n",
    "\n",
    "    return (similarity_score(synsets1, synsets2) + similarity_score(synsets2, synsets1)) / 2"
   ]
  },
  {
   "cell_type": "code",
   "execution_count": 18,
   "metadata": {
    "collapsed": true
   },
   "outputs": [],
   "source": [
    "def test_document_path_similarity():\n",
    "    doc1 = 'This is a function to test document_path_similarity.'\n",
    "    doc2 = 'Use this function to see if your code in doc_to_synsets \\\n",
    "    and similarity_score is correct!'\n",
    "    return document_path_similarity(doc1, doc2)"
   ]
  },
  {
   "cell_type": "markdown",
   "metadata": {},
   "source": [
    "paraphrases is a DataFrame which contains the following columns: Quality, D1, and D2."
   ]
  },
  {
   "cell_type": "markdown",
   "metadata": {},
   "source": [
    "Quality is an indicator variable which indicates if the two documents D1 and D2 are paraphrases of one another (1 for paraphrase, 0 for not paraphrase)."
   ]
  },
  {
   "cell_type": "code",
   "execution_count": 19,
   "metadata": {},
   "outputs": [
    {
     "data": {
      "text/html": [
       "<div>\n",
       "<style scoped>\n",
       "    .dataframe tbody tr th:only-of-type {\n",
       "        vertical-align: middle;\n",
       "    }\n",
       "\n",
       "    .dataframe tbody tr th {\n",
       "        vertical-align: top;\n",
       "    }\n",
       "\n",
       "    .dataframe thead th {\n",
       "        text-align: right;\n",
       "    }\n",
       "</style>\n",
       "<table border=\"1\" class=\"dataframe\">\n",
       "  <thead>\n",
       "    <tr style=\"text-align: right;\">\n",
       "      <th></th>\n",
       "      <th>Quality</th>\n",
       "      <th>D1</th>\n",
       "      <th>D2</th>\n",
       "    </tr>\n",
       "  </thead>\n",
       "  <tbody>\n",
       "    <tr>\n",
       "      <th>0</th>\n",
       "      <td>1</td>\n",
       "      <td>Ms Stewart, the chief executive, was not expec...</td>\n",
       "      <td>Ms Stewart, 61, its chief executive officer an...</td>\n",
       "    </tr>\n",
       "    <tr>\n",
       "      <th>1</th>\n",
       "      <td>1</td>\n",
       "      <td>After more than two years' detention under the...</td>\n",
       "      <td>After more than two years in detention by the ...</td>\n",
       "    </tr>\n",
       "    <tr>\n",
       "      <th>2</th>\n",
       "      <td>1</td>\n",
       "      <td>\"It still remains to be seen whether the reven...</td>\n",
       "      <td>\"It remains to be seen whether the revenue rec...</td>\n",
       "    </tr>\n",
       "    <tr>\n",
       "      <th>3</th>\n",
       "      <td>0</td>\n",
       "      <td>And it's going to be a wild ride,\" said Allan ...</td>\n",
       "      <td>Now the rest is just mechanical,\" said Allan H...</td>\n",
       "    </tr>\n",
       "    <tr>\n",
       "      <th>4</th>\n",
       "      <td>1</td>\n",
       "      <td>The cards are issued by Mexico's consulates to...</td>\n",
       "      <td>The card is issued by Mexico's consulates to i...</td>\n",
       "    </tr>\n",
       "  </tbody>\n",
       "</table>\n",
       "</div>"
      ],
      "text/plain": [
       "   Quality                                                 D1  \\\n",
       "0        1  Ms Stewart, the chief executive, was not expec...   \n",
       "1        1  After more than two years' detention under the...   \n",
       "2        1  \"It still remains to be seen whether the reven...   \n",
       "3        0  And it's going to be a wild ride,\" said Allan ...   \n",
       "4        1  The cards are issued by Mexico's consulates to...   \n",
       "\n",
       "                                                  D2  \n",
       "0  Ms Stewart, 61, its chief executive officer an...  \n",
       "1  After more than two years in detention by the ...  \n",
       "2  \"It remains to be seen whether the revenue rec...  \n",
       "3  Now the rest is just mechanical,\" said Allan H...  \n",
       "4  The card is issued by Mexico's consulates to i...  "
      ]
     },
     "execution_count": 19,
     "metadata": {},
     "output_type": "execute_result"
    }
   ],
   "source": [
    "# Use this dataframe for questions most_similar_docs and label_accuracy\n",
    "paraphrases = pd.read_csv('paraphrases.csv')\n",
    "paraphrases.head()"
   ]
  },
  {
   "cell_type": "code",
   "execution_count": 20,
   "metadata": {},
   "outputs": [
    {
     "data": {
      "text/plain": [
       "'Ms Stewart, the chief executive, was not expected to attend.'"
      ]
     },
     "execution_count": 20,
     "metadata": {},
     "output_type": "execute_result"
    }
   ],
   "source": [
    "paraphrases['D1'][0]"
   ]
  },
  {
   "cell_type": "code",
   "execution_count": 21,
   "metadata": {},
   "outputs": [
    {
     "data": {
      "text/plain": [
       "'Ms Stewart, 61, its chief executive officer and chairwoman, did not attend.\\n'"
      ]
     },
     "execution_count": 21,
     "metadata": {},
     "output_type": "execute_result"
    }
   ],
   "source": [
    "paraphrases['D2'][0]"
   ]
  },
  {
   "cell_type": "code",
   "execution_count": 22,
   "metadata": {
    "collapsed": true
   },
   "outputs": [],
   "source": [
    "pd.options.display.max_colwidth = 100"
   ]
  },
  {
   "cell_type": "code",
   "execution_count": 23,
   "metadata": {},
   "outputs": [
    {
     "data": {
      "text/html": [
       "<div>\n",
       "<style scoped>\n",
       "    .dataframe tbody tr th:only-of-type {\n",
       "        vertical-align: middle;\n",
       "    }\n",
       "\n",
       "    .dataframe tbody tr th {\n",
       "        vertical-align: top;\n",
       "    }\n",
       "\n",
       "    .dataframe thead th {\n",
       "        text-align: right;\n",
       "    }\n",
       "</style>\n",
       "<table border=\"1\" class=\"dataframe\">\n",
       "  <thead>\n",
       "    <tr style=\"text-align: right;\">\n",
       "      <th></th>\n",
       "      <th>Quality</th>\n",
       "      <th>D1</th>\n",
       "      <th>D2</th>\n",
       "    </tr>\n",
       "  </thead>\n",
       "  <tbody>\n",
       "    <tr>\n",
       "      <th>0</th>\n",
       "      <td>1</td>\n",
       "      <td>Ms Stewart, the chief executive, was not expected to attend.</td>\n",
       "      <td>Ms Stewart, 61, its chief executive officer and chairwoman, did not attend.\\n</td>\n",
       "    </tr>\n",
       "    <tr>\n",
       "      <th>1</th>\n",
       "      <td>1</td>\n",
       "      <td>After more than two years' detention under the State Security Bureau, the four were found guilty...</td>\n",
       "      <td>After more than two years in detention by the State Security Bureau, the four were found guilty ...</td>\n",
       "    </tr>\n",
       "    <tr>\n",
       "      <th>2</th>\n",
       "      <td>1</td>\n",
       "      <td>\"It still remains to be seen whether the revenue recovery will be short- or long-lived,\" Sprayre...</td>\n",
       "      <td>\"It remains to be seen whether the revenue recovery will be short- or long-lived,\" said James Sp...</td>\n",
       "    </tr>\n",
       "    <tr>\n",
       "      <th>3</th>\n",
       "      <td>0</td>\n",
       "      <td>And it's going to be a wild ride,\" said Allan Hoffenblum, a Republican consultant.</td>\n",
       "      <td>Now the rest is just mechanical,\" said Allan Hoffenblum, a Republican consultant.\\n</td>\n",
       "    </tr>\n",
       "    <tr>\n",
       "      <th>4</th>\n",
       "      <td>1</td>\n",
       "      <td>The cards are issued by Mexico's consulates to its citizens living abroad and show the date of b...</td>\n",
       "      <td>The card is issued by Mexico's consulates to its citizens living abroad and shows the date of bi...</td>\n",
       "    </tr>\n",
       "    <tr>\n",
       "      <th>5</th>\n",
       "      <td>1</td>\n",
       "      <td>Their difference was over whether the court should pay attention to legal opinions of other worl...</td>\n",
       "      <td>Their difference was over whether the court should take into account the legal opinions of other...</td>\n",
       "    </tr>\n",
       "    <tr>\n",
       "      <th>6</th>\n",
       "      <td>1</td>\n",
       "      <td>The only announced Republican to replace Davis is Rep. Darrell Issa of Vista, who has spent $1.7...</td>\n",
       "      <td>So far the only declared major party candidate is Rep. Darrell Issa, a Republican who has spent ...</td>\n",
       "    </tr>\n",
       "    <tr>\n",
       "      <th>7</th>\n",
       "      <td>1</td>\n",
       "      <td>Druce will face murder charges, Conte said.</td>\n",
       "      <td>Conte said Druce will be charged with murder.\\n</td>\n",
       "    </tr>\n",
       "    <tr>\n",
       "      <th>8</th>\n",
       "      <td>0</td>\n",
       "      <td>\"It's a major victory for Maine, and it's a major victory for other states.</td>\n",
       "      <td>The Maine program could be a model for other states.\\n</td>\n",
       "    </tr>\n",
       "    <tr>\n",
       "      <th>9</th>\n",
       "      <td>1</td>\n",
       "      <td>Microsoft said Friday that it is halting development of future Macintosh versions of its Interne...</td>\n",
       "      <td>Microsoft will stop developing versions of its Internet Explorer browser software for Macintosh ...</td>\n",
       "    </tr>\n",
       "    <tr>\n",
       "      <th>10</th>\n",
       "      <td>0</td>\n",
       "      <td>New legit download service launches with PC users in mind.</td>\n",
       "      <td>BuyMusic is the first subscription-free paid download music service for PC users.\\n</td>\n",
       "    </tr>\n",
       "    <tr>\n",
       "      <th>11</th>\n",
       "      <td>0</td>\n",
       "      <td>All patients developed some or all of the symptoms of E. coli food poisoning: bloody diarrhea, v...</td>\n",
       "      <td>Symptoms of the E. coli infection include bloody diarrhea, nausea, vomiting and abdominal crampi...</td>\n",
       "    </tr>\n",
       "    <tr>\n",
       "      <th>12</th>\n",
       "      <td>0</td>\n",
       "      <td>Nine years ago, they were married by a justice of the peace.</td>\n",
       "      <td>His wife, married to Moore by a justice of the peace, started planning her dream wedding.\\n</td>\n",
       "    </tr>\n",
       "    <tr>\n",
       "      <th>13</th>\n",
       "      <td>1</td>\n",
       "      <td>\"Indeed, Iran should be put on notice that efforts to try to remake Iraq in their image will be ...</td>\n",
       "      <td>\"Iran should be on notice that attempts to remake Iraq in Iran's image will be aggressively put ...</td>\n",
       "    </tr>\n",
       "    <tr>\n",
       "      <th>14</th>\n",
       "      <td>0</td>\n",
       "      <td>The euro tagged another record high against the dollar on Tuesday as demand for higher-yielding ...</td>\n",
       "      <td>The euro ros further into record territory on Tuesday as demand for higher-yielding euro-based a...</td>\n",
       "    </tr>\n",
       "    <tr>\n",
       "      <th>15</th>\n",
       "      <td>0</td>\n",
       "      <td>US Special Forces troops are training Colombian soldiers at military bases in the region to prot...</td>\n",
       "      <td>U.S. Special Forces troops are training Colombian soldiers at military bases in the region to pr...</td>\n",
       "    </tr>\n",
       "    <tr>\n",
       "      <th>16</th>\n",
       "      <td>0</td>\n",
       "      <td>The constitutionality of outlawing partial birth abortion is not an open question.</td>\n",
       "      <td>Defenders of the partial birth abortion ban downplayed the legal challenges.\\n</td>\n",
       "    </tr>\n",
       "    <tr>\n",
       "      <th>17</th>\n",
       "      <td>0</td>\n",
       "      <td>Sun was the lone major vendor to see its shipments decline, falling 2.9 percent to 59,692 units.</td>\n",
       "      <td>IBM (NYSE: IBM)  was the fastest-growing vendor, with sales jumping 37 percent to 220,000 units.\\n</td>\n",
       "    </tr>\n",
       "    <tr>\n",
       "      <th>18</th>\n",
       "      <td>0</td>\n",
       "      <td>On Monday the Palestinian Prime Minister, Mahmoud Abbas, will report to the Palestinian parliame...</td>\n",
       "      <td>Palestinian Prime Minister Mahmoud Abbas must defend the record of his first 100 days in office ...</td>\n",
       "    </tr>\n",
       "    <tr>\n",
       "      <th>19</th>\n",
       "      <td>1</td>\n",
       "      <td>The NASD also alleges Young flew multiple times on Tyco corporate jets, often accompanied by Koz...</td>\n",
       "      <td>The NASD alleges that the analyst flew multiples times on Tyco's corporate jets for business tri...</td>\n",
       "    </tr>\n",
       "  </tbody>\n",
       "</table>\n",
       "</div>"
      ],
      "text/plain": [
       "    Quality  \\\n",
       "0         1   \n",
       "1         1   \n",
       "2         1   \n",
       "3         0   \n",
       "4         1   \n",
       "5         1   \n",
       "6         1   \n",
       "7         1   \n",
       "8         0   \n",
       "9         1   \n",
       "10        0   \n",
       "11        0   \n",
       "12        0   \n",
       "13        1   \n",
       "14        0   \n",
       "15        0   \n",
       "16        0   \n",
       "17        0   \n",
       "18        0   \n",
       "19        1   \n",
       "\n",
       "                                                                                                     D1  \\\n",
       "0                                          Ms Stewart, the chief executive, was not expected to attend.   \n",
       "1   After more than two years' detention under the State Security Bureau, the four were found guilty...   \n",
       "2   \"It still remains to be seen whether the revenue recovery will be short- or long-lived,\" Sprayre...   \n",
       "3                    And it's going to be a wild ride,\" said Allan Hoffenblum, a Republican consultant.   \n",
       "4   The cards are issued by Mexico's consulates to its citizens living abroad and show the date of b...   \n",
       "5   Their difference was over whether the court should pay attention to legal opinions of other worl...   \n",
       "6   The only announced Republican to replace Davis is Rep. Darrell Issa of Vista, who has spent $1.7...   \n",
       "7                                                           Druce will face murder charges, Conte said.   \n",
       "8                           \"It's a major victory for Maine, and it's a major victory for other states.   \n",
       "9   Microsoft said Friday that it is halting development of future Macintosh versions of its Interne...   \n",
       "10                                           New legit download service launches with PC users in mind.   \n",
       "11  All patients developed some or all of the symptoms of E. coli food poisoning: bloody diarrhea, v...   \n",
       "12                                         Nine years ago, they were married by a justice of the peace.   \n",
       "13  \"Indeed, Iran should be put on notice that efforts to try to remake Iraq in their image will be ...   \n",
       "14  The euro tagged another record high against the dollar on Tuesday as demand for higher-yielding ...   \n",
       "15  US Special Forces troops are training Colombian soldiers at military bases in the region to prot...   \n",
       "16                   The constitutionality of outlawing partial birth abortion is not an open question.   \n",
       "17     Sun was the lone major vendor to see its shipments decline, falling 2.9 percent to 59,692 units.   \n",
       "18  On Monday the Palestinian Prime Minister, Mahmoud Abbas, will report to the Palestinian parliame...   \n",
       "19  The NASD also alleges Young flew multiple times on Tyco corporate jets, often accompanied by Koz...   \n",
       "\n",
       "                                                                                                     D2  \n",
       "0                         Ms Stewart, 61, its chief executive officer and chairwoman, did not attend.\\n  \n",
       "1   After more than two years in detention by the State Security Bureau, the four were found guilty ...  \n",
       "2   \"It remains to be seen whether the revenue recovery will be short- or long-lived,\" said James Sp...  \n",
       "3                   Now the rest is just mechanical,\" said Allan Hoffenblum, a Republican consultant.\\n  \n",
       "4   The card is issued by Mexico's consulates to its citizens living abroad and shows the date of bi...  \n",
       "5   Their difference was over whether the court should take into account the legal opinions of other...  \n",
       "6   So far the only declared major party candidate is Rep. Darrell Issa, a Republican who has spent ...  \n",
       "7                                                       Conte said Druce will be charged with murder.\\n  \n",
       "8                                                The Maine program could be a model for other states.\\n  \n",
       "9   Microsoft will stop developing versions of its Internet Explorer browser software for Macintosh ...  \n",
       "10                  BuyMusic is the first subscription-free paid download music service for PC users.\\n  \n",
       "11  Symptoms of the E. coli infection include bloody diarrhea, nausea, vomiting and abdominal crampi...  \n",
       "12          His wife, married to Moore by a justice of the peace, started planning her dream wedding.\\n  \n",
       "13  \"Iran should be on notice that attempts to remake Iraq in Iran's image will be aggressively put ...  \n",
       "14  The euro ros further into record territory on Tuesday as demand for higher-yielding euro-based a...  \n",
       "15  U.S. Special Forces troops are training Colombian soldiers at military bases in the region to pr...  \n",
       "16                       Defenders of the partial birth abortion ban downplayed the legal challenges.\\n  \n",
       "17   IBM (NYSE: IBM)  was the fastest-growing vendor, with sales jumping 37 percent to 220,000 units.\\n  \n",
       "18  Palestinian Prime Minister Mahmoud Abbas must defend the record of his first 100 days in office ...  \n",
       "19  The NASD alleges that the analyst flew multiples times on Tyco's corporate jets for business tri...  "
      ]
     },
     "execution_count": 23,
     "metadata": {},
     "output_type": "execute_result"
    }
   ],
   "source": [
    "paraphrases"
   ]
  },
  {
   "cell_type": "code",
   "execution_count": 24,
   "metadata": {
    "collapsed": true
   },
   "outputs": [],
   "source": [
    "def most_similar_docs():\n",
    "    \n",
    "    \n",
    "    s = 0.0\n",
    "    for i in range(len(paraphrases)):\n",
    "        similarity = document_path_similarity(paraphrases['D1'][i], paraphrases['D2'][i])\n",
    "        if s < similarity:\n",
    "            s = similarity\n",
    "            result = ((paraphrases['D1'][i], paraphrases['D2'][i], similarity))\n",
    "    return result"
   ]
  },
  {
   "cell_type": "code",
   "execution_count": 25,
   "metadata": {
    "collapsed": true
   },
   "outputs": [],
   "source": [
    "def label_accuracy():\n",
    "    from sklearn.metrics import accuracy_score\n",
    "\n",
    "    \n",
    "    label=[]\n",
    "    for i in range(len(paraphrases)):\n",
    "        similarity = document_path_similarity(paraphrases['D1'][i], paraphrases['D2'][i])\n",
    "        if similarity > 0.75:\n",
    "            label.append(1)\n",
    "        else:\n",
    "            label.append(0)\n",
    "        \n",
    "    return accuracy_score(paraphrases['Quality'],label)"
   ]
  },
  {
   "cell_type": "code",
   "execution_count": 26,
   "metadata": {},
   "outputs": [
    {
     "data": {
      "text/plain": [
       "(\"The cards are issued by Mexico's consulates to its citizens living abroad and show the date of birth, a current photograph and the address of the card holder.\",\n",
       " \"The card is issued by Mexico's consulates to its citizens living abroad and shows the date of birth, a current photograph and the address of the cardholder.\\n\",\n",
       " 0.9301413255360624)"
      ]
     },
     "execution_count": 26,
     "metadata": {},
     "output_type": "execute_result"
    }
   ],
   "source": [
    "most_similar_docs()"
   ]
  },
  {
   "cell_type": "code",
   "execution_count": 27,
   "metadata": {},
   "outputs": [
    {
     "data": {
      "text/plain": [
       "0.75"
      ]
     },
     "execution_count": 27,
     "metadata": {},
     "output_type": "execute_result"
    }
   ],
   "source": [
    "label_accuracy()"
   ]
  },
  {
   "cell_type": "code",
   "execution_count": null,
   "metadata": {
    "collapsed": true
   },
   "outputs": [],
   "source": []
  }
 ],
 "metadata": {
  "kernelspec": {
   "display_name": "Python 3",
   "language": "python",
   "name": "python3"
  },
  "language_info": {
   "codemirror_mode": {
    "name": "ipython",
    "version": 3
   },
   "file_extension": ".py",
   "mimetype": "text/x-python",
   "name": "python",
   "nbconvert_exporter": "python",
   "pygments_lexer": "ipython3",
   "version": "3.6.6"
  }
 },
 "nbformat": 4,
 "nbformat_minor": 2
}
