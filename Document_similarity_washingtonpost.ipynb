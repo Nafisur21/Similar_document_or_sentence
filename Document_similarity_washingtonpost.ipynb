{
 "cells": [
  {
   "cell_type": "markdown",
   "metadata": {},
   "source": [
    "# Nafisur Rahman\n",
    "nafisur21@gmail.com<br>\n",
    "https://www.linkedin.com/in/nafisur-rahman"
   ]
  },
  {
   "cell_type": "markdown",
   "metadata": {},
   "source": [
    "## Finding The most similar sentences to a given sentence on Washington post article."
   ]
  },
  {
   "cell_type": "markdown",
   "metadata": {},
   "source": [
    "### 1. Retrieve Text\n",
    "* Download and parse the text from webpage https://www.washingtonpost.com/news/the-switch/wp/2016/10/18/the-pentagons-massive-new-telescope-is-designed-to-track-space-junk-and-watch-out-for-killer-asteroids.<br>\n",
    "web scraping using BeatifulSoup"
   ]
  },
  {
   "cell_type": "code",
   "execution_count": 1,
   "metadata": {
    "collapsed": true
   },
   "outputs": [],
   "source": [
    "# For a given article url\n",
    "articleURL = \"https://www.washingtonpost.com/news/the-switch/wp/2016/10/18/the-pentagons-massive-new-telescope-is-designed-to-track-space-junk-and-watch-out-for-killer-asteroids/\""
   ]
  },
  {
   "cell_type": "code",
   "execution_count": 2,
   "metadata": {
    "collapsed": true
   },
   "outputs": [],
   "source": [
    "import urllib\n",
    "from bs4 import BeautifulSoup\n",
    "from nltk.corpus import stopwords\n",
    "from nltk.tokenize import word_tokenize,sent_tokenize\n",
    "from string import punctuation\n",
    "from nltk.probability import FreqDist\n",
    "from heapq import nlargest\n",
    "from collections import defaultdict\n",
    "def getTextfromurl(url):\n",
    "    page = urllib.request.urlopen(url).read().decode('utf8')\n",
    "    soup = BeautifulSoup(page,\"lxml\")\n",
    "    text = ' '.join(map(lambda p: p.text, soup.find_all('article')))\n",
    "    return text.encode('ascii', errors='replace').decode('utf-8').replace(\"?\",\" \")\n"
   ]
  },
  {
   "cell_type": "code",
   "execution_count": 3,
   "metadata": {},
   "outputs": [
    {
     "data": {
      "text/plain": [
       "\"      The Space Surveillance Telescope offers improvements in determining the orbits of newly discovered objects and provides rapid observations of events that may only occur over a relatively short period of time, like a supernova. (DARPAtv)    There are a lot of rocks flying around through space. Lots of debris, too. Old satellites, spent rocket boosters, even for a short while a spatula that got loose during a space shuttle mission in 2006. All of it swirling around in orbit, creating a bit of a traffic jam. For years, the Pentagon has been worried about the collisions that might be caused by an estimated 500,000 pieces of debris, taking out enormously valuable satellites and, in turn, creating even more debris. On Tuesday, the Defense Department took another significant step toward monitoring all of the cosmic junk swirling around in space, by delivering a gigantic new telescope capable of seeing small objects from very far away. Developed by the Defense Advanced Research Project Agency, the Space Surveillance Telescope was formally transferred to the Air Force during a ceremony at White Sands Missile Base in New Mexico Tuesday. The telescope is designed to monitor objects as small as softballs, in Geosynchonous orbit (GEO) some of the most important real estate in space. At about 22,000 miles away, its orbit mirrors that of the Earth, so that satellites parked there remain in a fixed point over the globe. That allows satellite television or communications providers to serve particular areas say, North America or Asia uninterrupted. But not only is the orbit far away it s incredibly vast.  A volume of tens of thousands of oceans,  said Lindsay Millard, DARPA s program manager in a podcast posted on the agency s website. But the telescope's ability to see  something very far away over a very wide area is really what it s best at.  DARPA says the advanced technology in the massive, 90-ton telescope would allow officials to go from  seeing only a few large objects at a time through the equivalent of a drinking straw to a windshield view with 10,000 objects at a time.  It is also being used by NASA to monitor asteroids and other near-Earth objects that could collide with the planet, officials said. Over the next two years, the telescope is going to be moved and reconstructed in Australia, a vantage point that would allow it to survey an under served area of space. The telescope is  a big improvement over the legacy ground-based optical telescopes that are used by the U.S. Air Force, because it can search large areas of sky and also track very faint (small) objects in and around GEO,  Brian Weeden, a Technical Advisor at the Secure World Foundation, wrote in an email.  That's a critical capability for the U.S. military, as they have a lot of very important satellites in GEO, and are increasingly worried about threats to those satellites.  The telescope would join another new space debris tracking technology known as the Space Fence, which is now being built by Bethesda-based Lockheed Martin. The radar system is going to be located on Kwajalein Atoll in the Marshall Islands and would use radar to help the Air Force track 10 times amount of debris than it currently monitors. With many valuable assets in space satellites used for intelligence, communications and guiding weapons the Pentagon has become increasingly concerned with what it calls  space situational awareness.  Instead of being a benign environment, the Pentagon likes to say that space has become  contested, congested and competitive.  In orbit, debris moves very fast, as much as 17,500 m.p.h., so that even a fleck of paint could cause damage. In 2007, the Chinese fired a missile that blew up a dead satellite and littered space with thousands of pieces of debris. And the Air Force has been working to make its satellites more resilient. It has plans to send swarms of small satellites into orbit that are more difficult to target.  Every military operation that takes place in the world today is critically dependent on space in one way or another,  Air Force Gen. John Hyten said in an interview earlier this year when he was the commander of the Air Force Space Command.  Whether our own people in the United States are fully cognizant of the dependence on space or not, the rest of the world has been watching us very closely. \""
      ]
     },
     "execution_count": 3,
     "metadata": {},
     "output_type": "execute_result"
    }
   ],
   "source": [
    "text=getTextfromurl(articleURL)\n",
    "text"
   ]
  },
  {
   "cell_type": "code",
   "execution_count": 4,
   "metadata": {},
   "outputs": [
    {
     "data": {
      "text/plain": [
       "['      The Space Surveillance Telescope offers improvements in determining the orbits of newly discovered objects and provides rapid observations of events that may only occur over a relatively short period of time, like a supernova.',\n",
       " '(DARPAtv)    There are a lot of rocks flying around through space.',\n",
       " 'Lots of debris, too.',\n",
       " 'Old satellites, spent rocket boosters, even for a short while a spatula that got loose during a space shuttle mission in 2006.',\n",
       " 'All of it swirling around in orbit, creating a bit of a traffic jam.',\n",
       " 'For years, the Pentagon has been worried about the collisions that might be caused by an estimated 500,000 pieces of debris, taking out enormously valuable satellites and, in turn, creating even more debris.',\n",
       " 'On Tuesday, the Defense Department took another significant step toward monitoring all of the cosmic junk swirling around in space, by delivering a gigantic new telescope capable of seeing small objects from very far away.',\n",
       " 'Developed by the Defense Advanced Research Project Agency, the Space Surveillance Telescope was formally transferred to the Air Force during a ceremony at White Sands Missile Base in New Mexico Tuesday.',\n",
       " 'The telescope is designed to monitor objects as small as softballs, in Geosynchonous orbit (GEO) some of the most important real estate in space.',\n",
       " 'At about 22,000 miles away, its orbit mirrors that of the Earth, so that satellites parked there remain in a fixed point over the globe.',\n",
       " 'That allows satellite television or communications providers to serve particular areas say, North America or Asia uninterrupted.',\n",
       " 'But not only is the orbit far away it s incredibly vast.',\n",
       " 'A volume of tens of thousands of oceans,  said Lindsay Millard, DARPA s program manager in a podcast posted on the agency s website.',\n",
       " \"But the telescope's ability to see  something very far away over a very wide area is really what it s best at.\",\n",
       " 'DARPA says the advanced technology in the massive, 90-ton telescope would allow officials to go from  seeing only a few large objects at a time through the equivalent of a drinking straw to a windshield view with 10,000 objects at a time.',\n",
       " 'It is also being used by NASA to monitor asteroids and other near-Earth objects that could collide with the planet, officials said.',\n",
       " 'Over the next two years, the telescope is going to be moved and reconstructed in Australia, a vantage point that would allow it to survey an under served area of space.',\n",
       " 'The telescope is  a big improvement over the legacy ground-based optical telescopes that are used by the U.S. Air Force, because it can search large areas of sky and also track very faint (small) objects in and around GEO,  Brian Weeden, a Technical Advisor at the Secure World Foundation, wrote in an email.',\n",
       " \"That's a critical capability for the U.S. military, as they have a lot of very important satellites in GEO, and are increasingly worried about threats to those satellites.\",\n",
       " 'The telescope would join another new space debris tracking technology known as the Space Fence, which is now being built by Bethesda-based Lockheed Martin.',\n",
       " 'The radar system is going to be located on Kwajalein Atoll in the Marshall Islands and would use radar to help the Air Force track 10 times amount of debris than it currently monitors.',\n",
       " 'With many valuable assets in space satellites used for intelligence, communications and guiding weapons the Pentagon has become increasingly concerned with what it calls  space situational awareness.',\n",
       " 'Instead of being a benign environment, the Pentagon likes to say that space has become  contested, congested and competitive.',\n",
       " 'In orbit, debris moves very fast, as much as 17,500 m.p.h., so that even a fleck of paint could cause damage.',\n",
       " 'In 2007, the Chinese fired a missile that blew up a dead satellite and littered space with thousands of pieces of debris.',\n",
       " 'And the Air Force has been working to make its satellites more resilient.',\n",
       " 'It has plans to send swarms of small satellites into orbit that are more difficult to target.',\n",
       " 'Every military operation that takes place in the world today is critically dependent on space in one way or another,  Air Force Gen. John Hyten said in an interview earlier this year when he was the commander of the Air Force Space Command.',\n",
       " 'Whether our own people in the United States are fully cognizant of the dependence on space or not, the rest of the world has been watching us very closely.']"
      ]
     },
     "execution_count": 4,
     "metadata": {},
     "output_type": "execute_result"
    }
   ],
   "source": [
    "from nltk.tokenize import sent_tokenize\n",
    "sent_list=sent_tokenize(text)\n",
    "sent_list"
   ]
  },
  {
   "cell_type": "code",
   "execution_count": 5,
   "metadata": {
    "collapsed": true
   },
   "outputs": [],
   "source": [
    "import numpy as np\n",
    "import pandas as pd\n",
    "import sklearn\n",
    "import nltk\n",
    "import matplotlib.pyplot as plt\n",
    "from nltk import pos_tag\n",
    "from nltk.tokenize import word_tokenize\n",
    "from nltk.corpus import wordnet as wn\n",
    "import re\n"
   ]
  },
  {
   "cell_type": "code",
   "execution_count": 6,
   "metadata": {
    "collapsed": true
   },
   "outputs": [],
   "source": [
    "\n",
    "def convert_tag(tag):\n",
    "    \"\"\"Convert the tag given by nltk.pos_tag to the tag used by wordnet.synsets\"\"\"\n",
    "    \n",
    "    tag_dict = {'N': 'n', 'J': 'a', 'R': 'r', 'V': 'v'}\n",
    "    try:\n",
    "        return tag_dict[tag[0]]\n",
    "    except KeyError:\n",
    "        return None"
   ]
  },
  {
   "cell_type": "code",
   "execution_count": 7,
   "metadata": {
    "collapsed": true
   },
   "outputs": [],
   "source": [
    "def doc_to_synsets(doc):\n",
    "    text=str(doc)\n",
    "    text=re.sub('[^a-zA-Z]',' ',text)\n",
    "    text=word_tokenize(text)\n",
    "    #text=[w for w in text if w not in Cstopwords]\n",
    "    #text=[stemmer.stem(w) for w in text if w not in Cstopwords]\n",
    "    #text=[lemma.lemmatize(w) for w in text if w not in Cstopwords]\n",
    "    tags=pos_tag(text)\n",
    "    synset_list=[]\n",
    "    for tag in tags:\n",
    "        try:\n",
    "            ss=wn.synsets(tag[0],pos=convert_tag(tag[1]))[0]\n",
    "            synset_list.append(ss)\n",
    "        except:\n",
    "            None\n",
    "    return synset_list"
   ]
  },
  {
   "cell_type": "code",
   "execution_count": 8,
   "metadata": {
    "collapsed": true
   },
   "outputs": [],
   "source": [
    "def similarity_score(s1, s2):\n",
    "    \"\"\"\n",
    "    Calculate the normalized similarity score of s1 onto s2\n",
    "\n",
    "    For each synset in s1, finds the synset in s2 with the largest similarity value.\n",
    "    Sum of all of the largest similarity values and normalize this value by dividing it by the\n",
    "    number of largest similarity values found.\n",
    "\n",
    "    Args:\n",
    "        s1, s2: list of synsets from doc_to_synsets\n",
    "\n",
    "    Returns:\n",
    "        normalized similarity score of s1 onto s2\n",
    "\n",
    "    Example:\n",
    "        synsets1 = doc_to_synsets('I like cats')\n",
    "        synsets2 = doc_to_synsets('I like dogs')\n",
    "        similarity_score(synsets1, synsets2)\n",
    "        Out: 0.73333333333333339\n",
    "    \"\"\"\n",
    "    \n",
    "    list_of_largest_similarities = []\n",
    "    # Your Code Here\n",
    "    for syn1 in s1:\n",
    "        \n",
    "        largest_sim = 0\n",
    "        \n",
    "        for syn2 in s2:\n",
    "            \n",
    "            #print(syn1.path_similarity(syn2))\n",
    "            \n",
    "            if syn1.path_similarity(syn2):\n",
    "            \n",
    "                if syn1.path_similarity(syn2) > largest_sim:\n",
    "                \n",
    "                    largest_sim = syn1.path_similarity(syn2)\n",
    "                \n",
    "        list_of_largest_similarities.append(largest_sim)\n",
    "    \n",
    "    return sum(list_of_largest_similarities) / len(list_of_largest_similarities)\n"
   ]
  },
  {
   "cell_type": "code",
   "execution_count": 9,
   "metadata": {
    "collapsed": true
   },
   "outputs": [],
   "source": [
    "def document_path_similarity(doc1, doc2):\n",
    "    \"\"\"Finds the symmetrical similarity between doc1 and doc2\"\"\"\n",
    "\n",
    "    synsets1 = doc_to_synsets(doc1)\n",
    "    synsets2 = doc_to_synsets(doc2)\n",
    "\n",
    "    return (similarity_score(synsets1, synsets2) + similarity_score(synsets2, synsets1)) / 2"
   ]
  },
  {
   "cell_type": "code",
   "execution_count": 10,
   "metadata": {
    "collapsed": true
   },
   "outputs": [],
   "source": [
    "doc1='On Tuesday, the Defense Department took another significant step toward monitoring all of the cosmic junk swirling around in space, by delivering a gigantic new telescope capable of seeing small objects from very far away.'"
   ]
  },
  {
   "cell_type": "code",
   "execution_count": 11,
   "metadata": {},
   "outputs": [
    {
     "name": "stdout",
     "output_type": "stream",
     "text": [
      "0.28291918454753706\n",
      "0.32909368728334243\n",
      "0.24100643130815544\n",
      "0.27338076993249405\n",
      "0.4099098219787875\n",
      "0.2583938212170971\n",
      "1.0\n",
      "0.35657213555920453\n",
      "0.35810413245758077\n",
      "0.2325311988878232\n",
      "0.11054427578442358\n",
      "0.19906392458116595\n",
      "0.27798388752052544\n",
      "0.37983914890608605\n",
      "0.3190036187394363\n",
      "0.2524754519905382\n",
      "0.26319059945627343\n",
      "0.3680179634868449\n",
      "0.23677433677433676\n",
      "0.390921530576703\n",
      "0.24138187602627262\n",
      "0.20792487684729066\n",
      "0.21076681938750905\n",
      "0.22573012343127288\n",
      "0.32045794563035945\n",
      "0.13226378028102165\n",
      "0.16900508495336083\n",
      "0.2946399249354914\n",
      "0.274365763546798\n"
     ]
    }
   ],
   "source": [
    "for d in sent_list:\n",
    "    doc2=d\n",
    "    score=document_path_similarity(doc1, doc2)\n",
    "    print(score)"
   ]
  },
  {
   "cell_type": "code",
   "execution_count": 13,
   "metadata": {},
   "outputs": [
    {
     "data": {
      "text/plain": [
       "defaultdict(int,\n",
       "            {0: 0.28291918454753706,\n",
       "             1: 0.32909368728334243,\n",
       "             2: 0.24100643130815544,\n",
       "             3: 0.27338076993249405,\n",
       "             4: 0.4099098219787875,\n",
       "             5: 0.2583938212170971,\n",
       "             6: 1.0,\n",
       "             7: 0.35657213555920453,\n",
       "             8: 0.35810413245758077,\n",
       "             9: 0.2325311988878232,\n",
       "             10: 0.11054427578442358,\n",
       "             11: 0.19906392458116595,\n",
       "             12: 0.27798388752052544,\n",
       "             13: 0.37983914890608605,\n",
       "             14: 0.3190036187394363,\n",
       "             15: 0.2524754519905382,\n",
       "             16: 0.26319059945627343,\n",
       "             17: 0.3680179634868449,\n",
       "             18: 0.23677433677433676,\n",
       "             19: 0.390921530576703,\n",
       "             20: 0.24138187602627262,\n",
       "             21: 0.20792487684729066,\n",
       "             22: 0.21076681938750905,\n",
       "             23: 0.22573012343127288,\n",
       "             24: 0.32045794563035945,\n",
       "             25: 0.13226378028102165,\n",
       "             26: 0.16900508495336083,\n",
       "             27: 0.2946399249354914,\n",
       "             28: 0.274365763546798})"
      ]
     },
     "execution_count": 13,
     "metadata": {},
     "output_type": "execute_result"
    }
   ],
   "source": [
    "ranking = defaultdict(int)\n",
    "for i,sent in enumerate(sent_list):\n",
    "    score=document_path_similarity(doc1, sent)\n",
    "    ranking[i] += score\n",
    "    \n",
    "ranking"
   ]
  },
  {
   "cell_type": "code",
   "execution_count": 17,
   "metadata": {
    "collapsed": true
   },
   "outputs": [],
   "source": [
    "def similar(question,text, n):\n",
    "    sents = sent_tokenize(text)\n",
    "    \n",
    "    assert n <= len(sents)\n",
    "    \n",
    "    \n",
    "    ranking = defaultdict(int)\n",
    "    \n",
    "    for i,sent in enumerate(sent_list):\n",
    "        score=document_path_similarity(question, sent)\n",
    "        ranking[i] += score\n",
    "             \n",
    "        \n",
    "    sents_idx = nlargest(n, ranking, key=ranking.get)\n",
    "    return [sents[j] for j in (sents_idx)]"
   ]
  },
  {
   "cell_type": "code",
   "execution_count": 18,
   "metadata": {},
   "outputs": [
    {
     "data": {
      "text/plain": [
       "['On Tuesday, the Defense Department took another significant step toward monitoring all of the cosmic junk swirling around in space, by delivering a gigantic new telescope capable of seeing small objects from very far away.',\n",
       " 'For years, the Pentagon has been worried about the collisions that might be caused by an estimated 500,000 pieces of debris, taking out enormously valuable satellites and, in turn, creating even more debris.',\n",
       " 'It is also being used by NASA to monitor asteroids and other near-Earth objects that could collide with the planet, officials said.',\n",
       " 'The telescope would join another new space debris tracking technology known as the Space Fence, which is now being built by Bethesda-based Lockheed Martin.']"
      ]
     },
     "execution_count": 18,
     "metadata": {},
     "output_type": "execute_result"
    }
   ],
   "source": [
    "question='What are the significant steps taken by Defense Department for monitoring cosmic junk?'\n",
    "text=getTextfromurl(articleURL)\n",
    "similar(question,text,4)"
   ]
  },
  {
   "cell_type": "code",
   "execution_count": null,
   "metadata": {
    "collapsed": true
   },
   "outputs": [],
   "source": []
  }
 ],
 "metadata": {
  "kernelspec": {
   "display_name": "Python 3",
   "language": "python",
   "name": "python3"
  },
  "language_info": {
   "codemirror_mode": {
    "name": "ipython",
    "version": 3
   },
   "file_extension": ".py",
   "mimetype": "text/x-python",
   "name": "python",
   "nbconvert_exporter": "python",
   "pygments_lexer": "ipython3",
   "version": "3.6.6"
  }
 },
 "nbformat": 4,
 "nbformat_minor": 2
}
